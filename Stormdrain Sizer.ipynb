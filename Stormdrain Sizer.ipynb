{
 "cells": [
  {
   "cell_type": "code",
   "execution_count": 1,
   "metadata": {},
   "outputs": [],
   "source": [
    "# import packages\n",
    "\n",
    "import pandas as pd\n",
    "import numpy as np\n",
    "import math"
   ]
  },
  {
   "cell_type": "code",
   "execution_count": 2,
   "metadata": {},
   "outputs": [],
   "source": [
    "# read excel file\n",
    "xls = pd.ExcelFile('stormsizer.xlsx')\n",
    "df1 = pd.read_excel(xls, 'eigth')\n",
    "df2 = pd.read_excel(xls, 'quarter')"
   ]
  },
  {
   "cell_type": "code",
   "execution_count": 3,
   "metadata": {},
   "outputs": [
    {
     "data": {
      "text/html": [
       "<div>\n",
       "<style scoped>\n",
       "    .dataframe tbody tr th:only-of-type {\n",
       "        vertical-align: middle;\n",
       "    }\n",
       "\n",
       "    .dataframe tbody tr th {\n",
       "        vertical-align: top;\n",
       "    }\n",
       "\n",
       "    .dataframe thead th {\n",
       "        text-align: right;\n",
       "    }\n",
       "</style>\n",
       "<table border=\"1\" class=\"dataframe\">\n",
       "  <thead>\n",
       "    <tr style=\"text-align: right;\">\n",
       "      <th></th>\n",
       "      <th>5</th>\n",
       "      <th>6</th>\n",
       "    </tr>\n",
       "  </thead>\n",
       "  <tbody>\n",
       "    <tr>\n",
       "      <th>2</th>\n",
       "      <td>0</td>\n",
       "      <td>0</td>\n",
       "    </tr>\n",
       "    <tr>\n",
       "      <th>3</th>\n",
       "      <td>674</td>\n",
       "      <td>561</td>\n",
       "    </tr>\n",
       "    <tr>\n",
       "      <th>4</th>\n",
       "      <td>1444</td>\n",
       "      <td>1203</td>\n",
       "    </tr>\n",
       "    <tr>\n",
       "      <th>5</th>\n",
       "      <td>2637</td>\n",
       "      <td>2198</td>\n",
       "    </tr>\n",
       "    <tr>\n",
       "      <th>6</th>\n",
       "      <td>4293</td>\n",
       "      <td>3577</td>\n",
       "    </tr>\n",
       "  </tbody>\n",
       "</table>\n",
       "</div>"
      ],
      "text/plain": [
       "      5     6\n",
       "2     0     0\n",
       "3   674   561\n",
       "4  1444  1203\n",
       "5  2637  2198\n",
       "6  4293  3577"
      ]
     },
     "execution_count": 3,
     "metadata": {},
     "output_type": "execute_result"
    }
   ],
   "source": [
    "df1.head()"
   ]
  },
  {
   "cell_type": "code",
   "execution_count": 4,
   "metadata": {},
   "outputs": [],
   "source": [
    "# User Response Class\n",
    "class Userinput(object):\n",
    "    \n",
    "    def __init__(self, slope = '',rain = '', area = 0):\n",
    "        self.slope = slope            # storm piping slope attributw\n",
    "        self.rain = rain              # rainfall rate attribute\n",
    "        self.area = area              # area served by storm drain attribute\n",
    "        \n",
    "    def setSlope(self, new_slope):\n",
    "        self.slope = new_slope\n",
    "        \n",
    "    def setRain(self, new_rain):\n",
    "        self.rain = new_rain\n",
    "        \n",
    "    def setArea(self, new_area):\n",
    "        self.area = new_area"
   ]
  },
  {
   "cell_type": "code",
   "execution_count": 5,
   "metadata": {},
   "outputs": [],
   "source": [
    "# function that asks for system attributes\n",
    "def askuser(user):\n",
    "    vert = 0\n",
    "    horz = 0\n",
    "    \n",
    "    while True:\n",
    "        user.setSlope(str(input(\"Please enter storm piping slope. Enter '1/16', '1/8', '1/4', or '1/2' \")))\n",
    "        if user.slope == '1/16' or user.slope == '1/8' or user.slope == '1/4' or user.slope == '1/2':\n",
    "            break\n",
    "        else:\n",
    "            print('Input unrecognized. ')\n",
    "        \n",
    "    while True:\n",
    "        user.setRain(str(input(\"Please enter rainfall rate per hour. Enter '5' or '6' \")))\n",
    "        if user.rain == '5' or user.rain == '6':\n",
    "            break\n",
    "        else:\n",
    "            print('Input unrecognized. ')\n",
    "            \n",
    "    print ('\\n')\n",
    "    print ('User Parameters:')\n",
    "    print (\"Pipe Slope: %s inches per foot\" %user.slope)\n",
    "    print (\"Rainfall Rate: %s inches per hour\" %user.rain)"
   ]
  },
  {
   "cell_type": "code",
   "execution_count": 6,
   "metadata": {},
   "outputs": [],
   "source": [
    "# function that filters dataframes based on pressure\n",
    "def dfselect(user):\n",
    "    df = [df1,df2]\n",
    "    if user.slope == '1/8':\n",
    "        df = df[0]\n",
    "    elif user.slope == '1/4':\n",
    "        df = df[1]\n",
    "    return df"
   ]
  },
  {
   "cell_type": "code",
   "execution_count": 7,
   "metadata": {},
   "outputs": [],
   "source": [
    "def columnsel(user, df):\n",
    "    if user.rain == '5':\n",
    "        df = df[5]\n",
    "    elif user.rain == '6':\n",
    "        df = df[6]\n",
    "    return df"
   ]
  },
  {
   "cell_type": "code",
   "execution_count": 8,
   "metadata": {},
   "outputs": [],
   "source": [
    "# function that chooses the pipe size\n",
    "def sizeselector(user, df):\n",
    "    df = df <= user.area\n",
    "    x = 0\n",
    "    for key,value in df.iteritems():\n",
    "        if value == True:\n",
    "            x += 1\n",
    "            pass\n",
    "        else:\n",
    "            return df.index[x]"
   ]
  },
  {
   "cell_type": "code",
   "execution_count": 12,
   "metadata": {},
   "outputs": [],
   "source": [
    "def stormsizer():\n",
    "    user = Userinput()\n",
    "    askuser(user)\n",
    "    x = dfselect(user)\n",
    "    y = columnsel(user, x)\n",
    "    \n",
    "    print('\\n')\n",
    "    \n",
    "    vert = 0\n",
    "    \n",
    "    while vert != 'exit':\n",
    "        vert = input(\"Please enter vertical area served by roof drain in square feet. Enter 'exit' to end: \")\n",
    "        if vert != \"exit\":\n",
    "            vert = int(vert)\n",
    "            horz = int(input(\"Please enter horizontal area served by roof drain in square feet: \"))\n",
    "            total = vert + 0.5 * horz\n",
    "            user.setArea(total)\n",
    "            print(\"Your pipe size in inches: %s\" %(sizeselector(user, y)))\n",
    "            print('\\n')\n",
    "        else:\n",
    "            pass"
   ]
  },
  {
   "cell_type": "code",
   "execution_count": 13,
   "metadata": {},
   "outputs": [
    {
     "name": "stdout",
     "output_type": "stream",
     "text": [
      "Please enter storm piping slope. Enter '1/16', '1/8', '1/4', or '1/2' 1/8\n",
      "Please enter rainfall rate per hour. Enter '5' or '6' 5\n",
      "\n",
      "\n",
      "User Parameters:\n",
      "Pipe Slope: 1/8 inches per foot\n",
      "Rainfall Rate: 5 inches per hour\n",
      "\n",
      "\n",
      "Please enter vertical area served by roof drain in square feet. Enter 'exit' to end: 2000\n",
      "Please enter horizontal area served by roof drain in square feet: 50\n",
      "Your pipe size in inches: 5\n",
      "\n",
      "\n",
      "Please enter vertical area served by roof drain in square feet. Enter 'exit' to end: 1000\n",
      "Please enter horizontal area served by roof drain in square feet: 0\n",
      "Your pipe size in inches: 4\n",
      "\n",
      "\n",
      "Please enter vertical area served by roof drain in square feet. Enter 'exit' to end: exit\n"
     ]
    }
   ],
   "source": [
    "stormsizer()"
   ]
  }
 ],
 "metadata": {
  "kernelspec": {
   "display_name": "Python 3",
   "language": "python",
   "name": "python3"
  },
  "language_info": {
   "codemirror_mode": {
    "name": "ipython",
    "version": 3
   },
   "file_extension": ".py",
   "mimetype": "text/x-python",
   "name": "python",
   "nbconvert_exporter": "python",
   "pygments_lexer": "ipython3",
   "version": "3.6.4"
  }
 },
 "nbformat": 4,
 "nbformat_minor": 2
}
